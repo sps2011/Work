{
 "cells": [
  {
   "cell_type": "markdown",
   "metadata": {},
   "source": [
    "Задание 1"
   ]
  },
  {
   "cell_type": "code",
   "execution_count": 35,
   "metadata": {},
   "outputs": [
    {
     "name": "stdout",
     "output_type": "stream",
     "text": [
      "Введите Фразу 1 авыпорл валофтыв, ловыта\n",
      "Введите Фразу 2 выфатлроп длвоалвыа ,лвлала лдфйат111\n",
      "Фраза 2 длиннее фразы 1\n"
     ]
    }
   ],
   "source": [
    "phrase_1 = input ('Введите Фразу 1 ')\n",
    "phrase_2 = input ('Введите Фразу 2 ')\n",
    "ph_1 = len(phrase_1)\n",
    "ph_2 = len(phrase_2)\n",
    "if ph_1 > ph_2:\n",
    "    print('Фраза 1 длиннее фразы 2')\n",
    "elif ph_1 == ph_2:\n",
    "    print('Фразы равной длины')\n",
    "else:\n",
    "    print('Фраза 2 длиннее фразы 1')"
   ]
  },
  {
   "cell_type": "markdown",
   "metadata": {},
   "source": [
    "Задание 2"
   ]
  },
  {
   "cell_type": "code",
   "execution_count": 26,
   "metadata": {
    "scrolled": true
   },
   "outputs": [
    {
     "name": "stdout",
     "output_type": "stream",
     "text": [
      "Введите год 2000\n",
      "Високосный год\n"
     ]
    }
   ],
   "source": [
    "x = int(input('Введите год '))\n",
    "if (x % 4 == 0) and (x % 100 != 0) or (x % 400 == 0):\n",
    "    print('Високосный год')\n",
    "else:\n",
    "    print('Обычный год')"
   ]
  },
  {
   "cell_type": "markdown",
   "metadata": {},
   "source": [
    "Задание 3"
   ]
  },
  {
   "cell_type": "code",
   "execution_count": 35,
   "metadata": {},
   "outputs": [
    {
     "name": "stdout",
     "output_type": "stream",
     "text": [
      "Введите день: 6\n",
      "Введите месяц: Февраль\n",
      "Водолей\n"
     ]
    }
   ],
   "source": [
    "date = int(input(\"Введите день: \"))\n",
    "month = input(\"Введите месяц: \")\n",
    "\n",
    "if (date >= 21 and date <= 31 and month == 'Январь') or (month == 'Февраль' and date >= 1 and date <= 18):\n",
    "    print('Водолей')\n",
    "    \n",
    "elif (date >= 19 and date <= 29 and month == 'Февраль') or (month == 'Март' and date >= 1 and date <= 20):\n",
    "    print('Рыбы')\n",
    "    \n",
    "elif (date >= 21 and date <= 31 and month == 'Март') or (month == 'Апрель' and date >= 1 and date <= 19):\n",
    "    print('Овен')\n",
    "    \n",
    "elif (date >= 20 and date <= 30 and month == 'Апрель') or (month == 'Май' and date >= 1 and date <= 20):\n",
    "    print('Телец')\n",
    "    \n",
    "elif (date >= 21 and date <= 31 and month == 'Май') or (month == 'Июнь' and date >= 1 and date <= 21):\n",
    "    print('Близнецы')\n",
    "    \n",
    "elif (date >= 22 and date <= 30 and month == 'Июнь') or (month == 'Июль' and date >= 1 and date <= 22):\n",
    "    print('Рак')\n",
    "    \n",
    "elif (date >= 23 and date <= 31 and month == 'Июль') or (month == 'Август' and date >= 1 and date <= 22):\n",
    "    print('Лев')\n",
    "    \n",
    "elif (date >= 23 and date <= 31 and month == 'Август') or (month == 'Сентябрь' and date >= 1 and date <= 22):\n",
    "    print('Дева')\n",
    "    \n",
    "elif (date >= 23 and date <= 30 and month == 'Сентябрь') or (month == 'Октябрь' and date >= 1 and date <= 23):\n",
    "    print('Весы')\n",
    "    \n",
    "elif (date >= 24 and date <= 31 and month == 'Октябрь') or (month == 'Ноябрь' and date >= 1 and date <= 22):\n",
    "    print('Скорпион')\n",
    "    \n",
    "elif (date >= 23 and date <= 30 and month == 'Ноябрь') or (month == 'Декабрь' and date >= 1 and date <= 21):\n",
    "    print('Стрелец')\n",
    "    \n",
    "elif (date >= 22 and date <= 31 and month == 'Декабрь') or (month == 'Январь' and date >= 1 and date <= 20):\n",
    "    print('Козерог')\n"
   ]
  },
  {
   "cell_type": "markdown",
   "metadata": {},
   "source": [
    "Задание 4"
   ]
  },
  {
   "cell_type": "code",
   "execution_count": 37,
   "metadata": {},
   "outputs": [
    {
     "name": "stdout",
     "output_type": "stream",
     "text": [
      "Введите ширину: 15\n",
      "Введите длину: 51\n",
      "Введите высоту: 15\n",
      "Коробка №2\n"
     ]
    }
   ],
   "source": [
    "wid = int(input ('Введите ширину: '))\n",
    "leng = int(input ('Введите длину: '))\n",
    "heig = int(input ('Введите высоту: '))\n",
    "\n",
    "if wid < 15 and leng < 15 and heig < 15:\n",
    "    print('Коробка №1')\n",
    "elif 15 <= wid < 50 or 15 <= leng < 50 or 15 <= heig < 50:\n",
    "    print('Коробка №2')\n",
    "elif leng > 200:\n",
    "    print('Упаковка для лыж')\n",
    "else:\n",
    "    print('Стандартная коробка №3')\n"
   ]
  },
  {
   "cell_type": "markdown",
   "metadata": {},
   "source": [
    "Задание 5"
   ]
  },
  {
   "cell_type": "code",
   "execution_count": 2,
   "metadata": {},
   "outputs": [
    {
     "name": "stdout",
     "output_type": "stream",
     "text": [
      "123321\n",
      "Счастливый билет\n"
     ]
    }
   ],
   "source": [
    "a = int(input())\n",
    "b = a // 1000\n",
    "one = b // 100\n",
    "two = b % 11\n",
    "three = b % 10\n",
    "c = a % 1000\n",
    "four = c // 100\n",
    "five = c % 11\n",
    "six = c % 10\n",
    "if (one + two + three) == (four + five + six):\n",
    "    print ('Счастливый билет')\n",
    "else:\n",
    "    print ('Несчастливый билет')"
   ]
  }
 ],
 "metadata": {
  "kernelspec": {
   "display_name": "Python 3",
   "language": "python",
   "name": "python3"
  },
  "language_info": {
   "codemirror_mode": {
    "name": "ipython",
    "version": 3
   },
   "file_extension": ".py",
   "mimetype": "text/x-python",
   "name": "python",
   "nbconvert_exporter": "python",
   "pygments_lexer": "ipython3",
   "version": "3.8.5"
  }
 },
 "nbformat": 4,
 "nbformat_minor": 4
}
