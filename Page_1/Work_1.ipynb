{
 "cells": [
  {
   "cell_type": "markdown",
   "metadata": {},
   "source": [
    "Задание 1"
   ]
  },
  {
   "cell_type": "code",
   "execution_count": 35,
   "metadata": {},
   "outputs": [
    {
     "name": "stdout",
     "output_type": "stream",
     "text": [
      "Введите Фразу 1 авыпорл валофтыв, ловыта\n",
      "Введите Фразу 2 выфатлроп длвоалвыа ,лвлала лдфйат111\n",
      "Фраза 2 длиннее фразы 1\n"
     ]
    }
   ],
   "source": [
    "phrase_1 = input ('Введите Фразу 1 ')\n",
    "phrase_2 = input ('Введите Фразу 2 ')\n",
    "ph_1 = len(phrase_1)\n",
    "ph_2 = len(phrase_2)\n",
    "if ph_1 > ph_2:\n",
    "    print('Фраза 1 длиннее фразы 2')\n",
    "elif ph_1 == ph_2:\n",
    "    print('Фразы равной длины')\n",
    "else:\n",
    "    print('Фраза 2 длиннее фразы 1')"
   ]
  },
  {
   "cell_type": "markdown",
   "metadata": {},
   "source": [
    "Задание 2"
   ]
  },
  {
   "cell_type": "code",
   "execution_count": 34,
   "metadata": {
    "scrolled": true
   },
   "outputs": [
    {
     "name": "stdout",
     "output_type": "stream",
     "text": [
      "Введите год 2021\n",
      "Обычный год\n"
     ]
    }
   ],
   "source": [
    "x = int(input('Введите год '))\n",
    "if x % 4 == 0:\n",
    "    print('Високосный год')\n",
    "else:\n",
    "    print('Обычный год')"
   ]
  },
  {
   "cell_type": "markdown",
   "metadata": {},
   "source": [
    "Задание 3"
   ]
  },
  {
   "cell_type": "code",
   "execution_count": 99,
   "metadata": {},
   "outputs": [
    {
     "name": "stdout",
     "output_type": "stream",
     "text": [
      "Введите месяц: Март\n",
      "Введите день: 3\n",
      "Рыбы\n"
     ]
    }
   ],
   "source": [
    "month = input ('Введите месяц: ')\n",
    "date = int(input ('Введите день: '))\n",
    "\n",
    "if month == 'Январь':\n",
    "    if 20>=date>0:\n",
    "        print('Козерог')\n",
    "    elif date>=21:\n",
    "        print('Водолей')\n",
    "elif month == 'Февраль':\n",
    "    if 18>=date>0:\n",
    "        print('Водолей')\n",
    "    elif date>=19:\n",
    "        print('Рыбы')\n",
    "elif month == 'Март':\n",
    "    if 20>=date>0:\n",
    "        print('Рыбы')\n",
    "    elif date>=21:\n",
    "        print('Овен')\n",
    "elif month == 'Апрель':\n",
    "    if 19>=date>0:\n",
    "        print('Овен')\n",
    "    elif date>=20:\n",
    "        print('Телец')\n",
    "elif month == 'Май':\n",
    "    if 20>=date>0:\n",
    "        print('Телец')\n",
    "    elif date>=21:\n",
    "        print('Близнецы')\n",
    "elif month == 'Июнь':\n",
    "    if 21>=date>0:\n",
    "        print('Близнецы')\n",
    "    elif date>=22:\n",
    "        print('Рак')\n",
    "elif month == 'Июль':\n",
    "    if 22>=date>0:\n",
    "        print('Рак')\n",
    "    elif date>=23:\n",
    "        print('Лев')\n",
    "elif month == 'Август':\n",
    "    if 22>=date>0:\n",
    "        print('Лев')\n",
    "    elif date>=23:\n",
    "        print('Дева')\n",
    "elif month == 'Сентябрь':\n",
    "    if 22>=date>0:\n",
    "        print('Дева')\n",
    "    elif date>=23:\n",
    "        print('Весы')\n",
    "elif month == 'Октябрь':\n",
    "    if 23>=date>0:\n",
    "        print('Весы')\n",
    "    elif date>=24:\n",
    "        print('Скорпион')\n",
    "elif month == 'Ноябрь':\n",
    "    if 22>=date>0:\n",
    "        print('Скорпион')\n",
    "    elif date>=23:\n",
    "        print('Стрелец')\n",
    "elif month == 'Декабрь':\n",
    "    if 21>=date>0:\n",
    "        print('Стрелец')\n",
    "    elif date>=22:\n",
    "        print('Козерог')\n"
   ]
  },
  {
   "cell_type": "markdown",
   "metadata": {},
   "source": [
    "Задание 4"
   ]
  },
  {
   "cell_type": "code",
   "execution_count": 96,
   "metadata": {},
   "outputs": [
    {
     "name": "stdout",
     "output_type": "stream",
     "text": [
      "Введите ширину: 14\n",
      "Введите длину: 205\n",
      "Введите высоту: 1\n",
      "Упаковка для лыж\n"
     ]
    }
   ],
   "source": [
    "wid = int(input ('Введите ширину: '))\n",
    "leng = int(input ('Введите длину: '))\n",
    "heig = int(input ('Введите высоту: '))\n",
    "\n",
    "if wid < 15 and leng < 15 and heig <15:\n",
    "    print('Коробка №1')\n",
    "elif 15 <=wid< 50 and 15<=leng<50 and 15<=heig<50:\n",
    "    print('Коробка №2')\n",
    "elif leng > 200:\n",
    "    print('Упаковка для лыж')\n",
    "else:\n",
    "    print('Стандартная коробка №3')\n"
   ]
  },
  {
   "cell_type": "markdown",
   "metadata": {},
   "source": [
    "Задание 5"
   ]
  },
  {
   "cell_type": "code",
   "execution_count": 2,
   "metadata": {},
   "outputs": [
    {
     "name": "stdout",
     "output_type": "stream",
     "text": [
      "123321\n",
      "Счастливый билет\n"
     ]
    }
   ],
   "source": [
    "a = int(input())\n",
    "b = a//1000\n",
    "one = b//100\n",
    "two = b%11\n",
    "three = b%10\n",
    "c = a%1000\n",
    "four = c//100\n",
    "five = c%11\n",
    "six = c%10\n",
    "if (one+two+three)==(four+five+six):\n",
    "    print ('Счастливый билет')\n",
    "else:\n",
    "    print ('Несчастливый билет')"
   ]
  },
  {
   "cell_type": "code",
   "execution_count": null,
   "metadata": {},
   "outputs": [],
   "source": []
  }
 ],
 "metadata": {
  "kernelspec": {
   "display_name": "Python 3",
   "language": "python",
   "name": "python3"
  },
  "language_info": {
   "codemirror_mode": {
    "name": "ipython",
    "version": 3
   },
   "file_extension": ".py",
   "mimetype": "text/x-python",
   "name": "python",
   "nbconvert_exporter": "python",
   "pygments_lexer": "ipython3",
   "version": "3.8.5"
  }
 },
 "nbformat": 4,
 "nbformat_minor": 4
}
