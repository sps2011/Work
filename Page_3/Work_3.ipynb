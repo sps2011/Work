{
 "cells": [
  {
   "cell_type": "markdown",
   "metadata": {},
   "source": [
    "Задание 1"
   ]
  },
  {
   "cell_type": "code",
   "execution_count": 18,
   "metadata": {},
   "outputs": [
    {
     "name": "stdout",
     "output_type": "stream",
     "text": [
      "Ведите слово: testing\n",
      "t\n"
     ]
    }
   ],
   "source": [
    "per = input(\"Ведите слово: \")\n",
    "fst_per = len(per)\n",
    "sec_per = fst_per / 2\n",
    "if fst_per % 2 == 0:\n",
    "    print(per[int(sec_per)-1:int(sec_per)+1])\n",
    "elif fst_per % 2 !=0:\n",
    "    print(per[int(sec_per)])"
   ]
  },
  {
   "cell_type": "markdown",
   "metadata": {},
   "source": [
    "Задание 2"
   ]
  },
  {
   "cell_type": "code",
   "execution_count": 31,
   "metadata": {},
   "outputs": [
    {
     "name": "stdout",
     "output_type": "stream",
     "text": [
      "Введите число:\n",
      "1\n",
      "2\n",
      "3\n",
      "4\n",
      "0\n",
      "10\n"
     ]
    }
   ],
   "source": [
    "print(\"Введите число:\")\n",
    "per_1 = int(input())\n",
    "sum = 0\n",
    "while per_1 != 0:\n",
    "    sum += per_1\n",
    "    per_1 = int(input())\n",
    "print(sum)\n"
   ]
  },
  {
   "cell_type": "markdown",
   "metadata": {},
   "source": [
    "Задание 3"
   ]
  },
  {
   "cell_type": "code",
   "execution_count": 54,
   "metadata": {},
   "outputs": [
    {
     "name": "stdout",
     "output_type": "stream",
     "text": [
      "Идеальные пары:\n",
      "1 Alex - Emma\n",
      "2 Arthur - Kate\n",
      "3 John - Kira\n",
      "4 Peter - Liza\n",
      "5 Richard - Trisha\n"
     ]
    }
   ],
   "source": [
    "boys = ['Peter', 'Alex', 'John', 'Arthur', 'Richard']\n",
    "girls = ['Kate', 'Liza', 'Kira', 'Emma', 'Trisha']\n",
    "boys.sort()\n",
    "girls.sort()\n",
    "boys_girls = zip(boys,girls)\n",
    "boys_1 = len(boys)\n",
    "girls_1 = len(girls)\n",
    "if boys_1 == girls_1:\n",
    "    print('Идеальные пары:')\n",
    "    for i, name in enumerate(boys_girls):\n",
    "        print(i+1, name[0], '-', name[1])\n",
    "else:         \n",
    "    print('Внимание, кто-то может остаться без пары!')\n",
    "    "
   ]
  },
  {
   "cell_type": "markdown",
   "metadata": {},
   "source": [
    "Задание 4"
   ]
  },
  {
   "cell_type": "code",
   "execution_count": 23,
   "metadata": {},
   "outputs": [
    {
     "name": "stdout",
     "output_type": "stream",
     "text": [
      "Thailand - 23.9 С\n",
      "Germany - 13.8 С\n",
      "Russia - 3.7 С\n",
      "Poland - 12.0 С\n"
     ]
    }
   ],
   "source": [
    "countries_temperature = [\n",
    "['Thailand', [75.2, 77, 78.8, 73.4, 68, 75.2, 77]],\n",
    "['Germany', [57.2, 55.4, 59, 59, 53.6]],\n",
    "['Russia', [35.6, 37.4, 39.2, 41, 42.8, 39.2, 35.6]],\n",
    "['Poland', [50, 50, 53.6, 57.2, 55.4, 55.4]]\n",
    "]\n",
    "for country in countries_temperature:\n",
    "    avg = sum(country[1]) / len(country[1])\n",
    "    cels = (avg - 32) * 5 / 9\n",
    "    print(country[0], '-',round(cels,1),'С')\n",
    "    "
   ]
  },
  {
   "cell_type": "markdown",
   "metadata": {},
   "source": [
    "Задание 5"
   ]
  },
  {
   "cell_type": "code",
   "execution_count": 24,
   "metadata": {},
   "outputs": [
    {
     "name": "stdout",
     "output_type": "stream",
     "text": [
      "23.25\n"
     ]
    }
   ],
   "source": [
    "stream = [\n",
    "'2018-01-01,user1,3',\n",
    "'2018-01-07,user1,4',\n",
    "'2018-03-29,user1,1',\n",
    "'2018-04-04,user1,13',\n",
    "'2018-01-05,user2,7',\n",
    "'2018-06-14,user3,4',\n",
    "'2018-07-02,user3,10',\n",
    "'2018-03-21,user4,19',\n",
    "'2018-03-22,user4,4',\n",
    "'2018-04-22,user4,8',\n",
    "'2018-05-03,user4,9',\n",
    "'2018-05-11,user4,11',\n",
    "]\n",
    "\n",
    "n_users, n_views = 0, 0\n",
    "last_user = ''\n",
    "for s in stream:\n",
    "    s = s.split(',')\n",
    "    if s[1]!=last_user:\n",
    "        n_users += 1\n",
    "        last_user = s[1]\n",
    "    n_views += int(s[2])\n",
    "avg = n_views/n_users\n",
    "print(avg)"
   ]
  },
  {
   "cell_type": "code",
   "execution_count": null,
   "metadata": {},
   "outputs": [],
   "source": []
  }
 ],
 "metadata": {
  "kernelspec": {
   "display_name": "Python 3",
   "language": "python",
   "name": "python3"
  },
  "language_info": {
   "codemirror_mode": {
    "name": "ipython",
    "version": 3
   },
   "file_extension": ".py",
   "mimetype": "text/x-python",
   "name": "python",
   "nbconvert_exporter": "python",
   "pygments_lexer": "ipython3",
   "version": "3.8.5"
  }
 },
 "nbformat": 4,
 "nbformat_minor": 4
}
